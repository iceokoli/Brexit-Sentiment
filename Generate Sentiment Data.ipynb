{
 "cells": [
  {
   "cell_type": "markdown",
   "metadata": {},
   "source": [
    "# Generate Sentiment Data"
   ]
  },
  {
   "cell_type": "markdown",
   "metadata": {},
   "source": [
    "Import libraries"
   ]
  },
  {
   "cell_type": "code",
   "execution_count": 29,
   "metadata": {},
   "outputs": [
    {
     "name": "stderr",
     "output_type": "stream",
     "text": [
      "c:\\users\\iceok\\documents\\.virtualenvs\\bsent\\lib\\importlib\\_bootstrap.py:219: RuntimeWarning: numpy.ufunc size changed, may indicate binary incompatibility. Expected 112 from C header, got 124 from PyObject\n",
      "  return f(*args, **kwds)\n",
      "c:\\users\\iceok\\documents\\.virtualenvs\\bsent\\lib\\importlib\\_bootstrap.py:219: RuntimeWarning: numpy.ufunc size changed, may indicate binary incompatibility. Expected 112 from C header, got 124 from PyObject\n",
      "  return f(*args, **kwds)\n"
     ]
    }
   ],
   "source": [
    "import json\n",
    "import pandas as pd\n",
    "from nltk.sentiment.vader import SentimentIntensityAnalyzer"
   ]
  },
  {
   "cell_type": "markdown",
   "metadata": {},
   "source": [
    "## Get Data"
   ]
  },
  {
   "cell_type": "code",
   "execution_count": 3,
   "metadata": {},
   "outputs": [],
   "source": [
    "with open('data/cnn_articles.json', 'r') as f:\n",
    "    cnn_articles = json.load(f)"
   ]
  },
  {
   "cell_type": "code",
   "execution_count": 4,
   "metadata": {},
   "outputs": [],
   "source": [
    "with open('data/guardian_articles.json', 'r') as f:\n",
    "    guardian_articles = json.load(f)"
   ]
  },
  {
   "cell_type": "markdown",
   "metadata": {},
   "source": [
    "## Sentiment Analysis"
   ]
  },
  {
   "cell_type": "code",
   "execution_count": 5,
   "metadata": {},
   "outputs": [],
   "source": [
    "analyser = SentimentIntensityAnalyzer()"
   ]
  },
  {
   "cell_type": "code",
   "execution_count": 25,
   "metadata": {},
   "outputs": [],
   "source": [
    "def generate_sentiment(articles):\n",
    "    result = []\n",
    "    for article in articles:\n",
    "        \n",
    "        # Generate Polarity Scores\n",
    "        title_sentiment = analyser.polarity_scores(article['title'])\n",
    "        full_sentiment = analyser.polarity_scores(article['full_article'])\n",
    "        \n",
    "        # Generate row of data\n",
    "        row = {}\n",
    "        row['publish_date'] = article['publish_date']\n",
    "        row['title'] = article['title']\n",
    "        row['title_sentiment_pos'] = title_sentiment['pos']\n",
    "        row['title_sentiment_neu'] = title_sentiment['neu']\n",
    "        row['title_sentiment_neg'] = title_sentiment['neg']\n",
    "        row['title_sentiment_comp'] = title_sentiment['compound']\n",
    "        row['full_sentiment_pos'] = full_sentiment['pos']\n",
    "        row['full_sentiment_neu'] = full_sentiment['neu']\n",
    "        row['full_sentiment_neg'] = full_sentiment['neg']\n",
    "        row['full_sentiment_comp'] = full_sentiment['compound']\n",
    "        \n",
    "        # Add to results\n",
    "        result.append(row)\n",
    "        \n",
    "    return result"
   ]
  },
  {
   "cell_type": "code",
   "execution_count": 26,
   "metadata": {},
   "outputs": [],
   "source": [
    "cnn_sentiment = generate_sentiment(cnn_articles)"
   ]
  },
  {
   "cell_type": "code",
   "execution_count": 27,
   "metadata": {},
   "outputs": [],
   "source": [
    "guardian_sentiment = generate_sentiment(guardian_articles)"
   ]
  },
  {
   "cell_type": "markdown",
   "metadata": {},
   "source": [
    "## Load in a dataframe and pickle"
   ]
  },
  {
   "cell_type": "code",
   "execution_count": 34,
   "metadata": {},
   "outputs": [],
   "source": [
    "cnn_df = pd.DataFrame(cnn_sentiment)\n",
    "cnn_df['source'] = 'CNN'"
   ]
  },
  {
   "cell_type": "code",
   "execution_count": 35,
   "metadata": {},
   "outputs": [],
   "source": [
    "guardian_df = pd.DataFrame(guardian_sentiment)\n",
    "guardian_df['source'] = 'Guardian'"
   ]
  },
  {
   "cell_type": "code",
   "execution_count": 44,
   "metadata": {},
   "outputs": [],
   "source": [
    "sentiment_df = pd.concat([cnn_df, guardian_df]).reset_index(drop=True)\n",
    "sentiment_df['publish_date'] = pd.to_datetime(sentiment_df.publish_date)"
   ]
  },
  {
   "cell_type": "code",
   "execution_count": 46,
   "metadata": {},
   "outputs": [
    {
     "data": {
      "text/html": [
       "<div>\n",
       "<style scoped>\n",
       "    .dataframe tbody tr th:only-of-type {\n",
       "        vertical-align: middle;\n",
       "    }\n",
       "\n",
       "    .dataframe tbody tr th {\n",
       "        vertical-align: top;\n",
       "    }\n",
       "\n",
       "    .dataframe thead th {\n",
       "        text-align: right;\n",
       "    }\n",
       "</style>\n",
       "<table border=\"1\" class=\"dataframe\">\n",
       "  <thead>\n",
       "    <tr style=\"text-align: right;\">\n",
       "      <th></th>\n",
       "      <th>publish_date</th>\n",
       "      <th>title</th>\n",
       "      <th>title_sentiment_pos</th>\n",
       "      <th>title_sentiment_neu</th>\n",
       "      <th>title_sentiment_neg</th>\n",
       "      <th>title_sentiment_comp</th>\n",
       "      <th>full_sentiment_pos</th>\n",
       "      <th>full_sentiment_neu</th>\n",
       "      <th>full_sentiment_neg</th>\n",
       "      <th>full_sentiment_comp</th>\n",
       "      <th>source</th>\n",
       "    </tr>\n",
       "  </thead>\n",
       "  <tbody>\n",
       "    <tr>\n",
       "      <td>0</td>\n",
       "      <td>2019-08-30 00:00:00</td>\n",
       "      <td>It'll take superpowers to unseat Boris Johnson...</td>\n",
       "      <td>0.141</td>\n",
       "      <td>0.859</td>\n",
       "      <td>0.000</td>\n",
       "      <td>0.3182</td>\n",
       "      <td>0.089</td>\n",
       "      <td>0.862</td>\n",
       "      <td>0.050</td>\n",
       "      <td>0.9909</td>\n",
       "      <td>CNN</td>\n",
       "    </tr>\n",
       "    <tr>\n",
       "      <td>1</td>\n",
       "      <td>2019-08-30 00:00:00</td>\n",
       "      <td>Portuguese woman interrupts Sky broadcast with...</td>\n",
       "      <td>0.000</td>\n",
       "      <td>0.753</td>\n",
       "      <td>0.247</td>\n",
       "      <td>-0.3182</td>\n",
       "      <td>0.053</td>\n",
       "      <td>0.899</td>\n",
       "      <td>0.048</td>\n",
       "      <td>0.5034</td>\n",
       "      <td>CNN</td>\n",
       "    </tr>\n",
       "    <tr>\n",
       "      <td>2</td>\n",
       "      <td>2019-08-29 00:00:00</td>\n",
       "      <td>Boris Johnson put the Queen in an absurdly awk...</td>\n",
       "      <td>0.000</td>\n",
       "      <td>0.849</td>\n",
       "      <td>0.151</td>\n",
       "      <td>-0.1531</td>\n",
       "      <td>0.050</td>\n",
       "      <td>0.907</td>\n",
       "      <td>0.044</td>\n",
       "      <td>0.4576</td>\n",
       "      <td>CNN</td>\n",
       "    </tr>\n",
       "    <tr>\n",
       "      <td>3</td>\n",
       "      <td>2019-08-29 00:00:00</td>\n",
       "      <td>5 things to know for August 29: Dorian, citize...</td>\n",
       "      <td>0.000</td>\n",
       "      <td>1.000</td>\n",
       "      <td>0.000</td>\n",
       "      <td>0.0000</td>\n",
       "      <td>0.054</td>\n",
       "      <td>0.869</td>\n",
       "      <td>0.077</td>\n",
       "      <td>-0.9614</td>\n",
       "      <td>CNN</td>\n",
       "    </tr>\n",
       "    <tr>\n",
       "      <td>4</td>\n",
       "      <td>2019-08-28 09:36:30+00:00</td>\n",
       "      <td>Boris Johnson asks Queen to suspend UK Parliam...</td>\n",
       "      <td>0.000</td>\n",
       "      <td>0.813</td>\n",
       "      <td>0.187</td>\n",
       "      <td>-0.3182</td>\n",
       "      <td>0.024</td>\n",
       "      <td>0.832</td>\n",
       "      <td>0.143</td>\n",
       "      <td>-0.9892</td>\n",
       "      <td>CNN</td>\n",
       "    </tr>\n",
       "  </tbody>\n",
       "</table>\n",
       "</div>"
      ],
      "text/plain": [
       "                publish_date  \\\n",
       "0        2019-08-30 00:00:00   \n",
       "1        2019-08-30 00:00:00   \n",
       "2        2019-08-29 00:00:00   \n",
       "3        2019-08-29 00:00:00   \n",
       "4  2019-08-28 09:36:30+00:00   \n",
       "\n",
       "                                               title  title_sentiment_pos  \\\n",
       "0  It'll take superpowers to unseat Boris Johnson...                0.141   \n",
       "1  Portuguese woman interrupts Sky broadcast with...                0.000   \n",
       "2  Boris Johnson put the Queen in an absurdly awk...                0.000   \n",
       "3  5 things to know for August 29: Dorian, citize...                0.000   \n",
       "4  Boris Johnson asks Queen to suspend UK Parliam...                0.000   \n",
       "\n",
       "   title_sentiment_neu  title_sentiment_neg  title_sentiment_comp  \\\n",
       "0                0.859                0.000                0.3182   \n",
       "1                0.753                0.247               -0.3182   \n",
       "2                0.849                0.151               -0.1531   \n",
       "3                1.000                0.000                0.0000   \n",
       "4                0.813                0.187               -0.3182   \n",
       "\n",
       "   full_sentiment_pos  full_sentiment_neu  full_sentiment_neg  \\\n",
       "0               0.089               0.862               0.050   \n",
       "1               0.053               0.899               0.048   \n",
       "2               0.050               0.907               0.044   \n",
       "3               0.054               0.869               0.077   \n",
       "4               0.024               0.832               0.143   \n",
       "\n",
       "   full_sentiment_comp source  \n",
       "0               0.9909    CNN  \n",
       "1               0.5034    CNN  \n",
       "2               0.4576    CNN  \n",
       "3              -0.9614    CNN  \n",
       "4              -0.9892    CNN  "
      ]
     },
     "execution_count": 46,
     "metadata": {},
     "output_type": "execute_result"
    }
   ],
   "source": [
    "sentiment_df.head()"
   ]
  },
  {
   "cell_type": "code",
   "execution_count": 47,
   "metadata": {},
   "outputs": [
    {
     "name": "stdout",
     "output_type": "stream",
     "text": [
      "<class 'pandas.core.frame.DataFrame'>\n",
      "RangeIndex: 36343 entries, 0 to 36342\n",
      "Data columns (total 11 columns):\n",
      "publish_date            36343 non-null object\n",
      "title                   36343 non-null object\n",
      "title_sentiment_pos     36343 non-null float64\n",
      "title_sentiment_neu     36343 non-null float64\n",
      "title_sentiment_neg     36343 non-null float64\n",
      "title_sentiment_comp    36343 non-null float64\n",
      "full_sentiment_pos      36343 non-null float64\n",
      "full_sentiment_neu      36343 non-null float64\n",
      "full_sentiment_neg      36343 non-null float64\n",
      "full_sentiment_comp     36343 non-null float64\n",
      "source                  36343 non-null object\n",
      "dtypes: float64(8), object(3)\n",
      "memory usage: 2.6+ MB\n"
     ]
    }
   ],
   "source": [
    "sentiment_df.info()"
   ]
  },
  {
   "cell_type": "markdown",
   "metadata": {},
   "source": [
    "On first glance, we can tell the following from our data:\n",
    "* Both the title and full article sentiment are primarily neutral (~80%)\n",
    "* The sentiment of the title has more variance than that of the full article however its the opposite for the compound variance."
   ]
  },
  {
   "cell_type": "code",
   "execution_count": 48,
   "metadata": {},
   "outputs": [
    {
     "data": {
      "text/html": [
       "<div>\n",
       "<style scoped>\n",
       "    .dataframe tbody tr th:only-of-type {\n",
       "        vertical-align: middle;\n",
       "    }\n",
       "\n",
       "    .dataframe tbody tr th {\n",
       "        vertical-align: top;\n",
       "    }\n",
       "\n",
       "    .dataframe thead th {\n",
       "        text-align: right;\n",
       "    }\n",
       "</style>\n",
       "<table border=\"1\" class=\"dataframe\">\n",
       "  <thead>\n",
       "    <tr style=\"text-align: right;\">\n",
       "      <th></th>\n",
       "      <th>title_sentiment_pos</th>\n",
       "      <th>title_sentiment_neu</th>\n",
       "      <th>title_sentiment_neg</th>\n",
       "      <th>title_sentiment_comp</th>\n",
       "      <th>full_sentiment_pos</th>\n",
       "      <th>full_sentiment_neu</th>\n",
       "      <th>full_sentiment_neg</th>\n",
       "      <th>full_sentiment_comp</th>\n",
       "    </tr>\n",
       "  </thead>\n",
       "  <tbody>\n",
       "    <tr>\n",
       "      <td>count</td>\n",
       "      <td>36343.000000</td>\n",
       "      <td>36343.000000</td>\n",
       "      <td>36343.000000</td>\n",
       "      <td>36343.000000</td>\n",
       "      <td>36343.000000</td>\n",
       "      <td>36343.000000</td>\n",
       "      <td>36343.000000</td>\n",
       "      <td>36343.000000</td>\n",
       "    </tr>\n",
       "    <tr>\n",
       "      <td>mean</td>\n",
       "      <td>0.079851</td>\n",
       "      <td>0.812731</td>\n",
       "      <td>0.107421</td>\n",
       "      <td>-0.046296</td>\n",
       "      <td>0.097808</td>\n",
       "      <td>0.824778</td>\n",
       "      <td>0.076616</td>\n",
       "      <td>0.363296</td>\n",
       "    </tr>\n",
       "    <tr>\n",
       "      <td>std</td>\n",
       "      <td>0.122744</td>\n",
       "      <td>0.168914</td>\n",
       "      <td>0.140056</td>\n",
       "      <td>0.363943</td>\n",
       "      <td>0.032651</td>\n",
       "      <td>0.051967</td>\n",
       "      <td>0.034582</td>\n",
       "      <td>0.844047</td>\n",
       "    </tr>\n",
       "    <tr>\n",
       "      <td>min</td>\n",
       "      <td>0.000000</td>\n",
       "      <td>0.185000</td>\n",
       "      <td>0.000000</td>\n",
       "      <td>-0.939300</td>\n",
       "      <td>0.000000</td>\n",
       "      <td>0.000000</td>\n",
       "      <td>0.000000</td>\n",
       "      <td>-1.000000</td>\n",
       "    </tr>\n",
       "    <tr>\n",
       "      <td>25%</td>\n",
       "      <td>0.000000</td>\n",
       "      <td>0.693000</td>\n",
       "      <td>0.000000</td>\n",
       "      <td>-0.318200</td>\n",
       "      <td>0.077000</td>\n",
       "      <td>0.796000</td>\n",
       "      <td>0.053000</td>\n",
       "      <td>-0.771700</td>\n",
       "    </tr>\n",
       "    <tr>\n",
       "      <td>50%</td>\n",
       "      <td>0.000000</td>\n",
       "      <td>0.809000</td>\n",
       "      <td>0.000000</td>\n",
       "      <td>0.000000</td>\n",
       "      <td>0.097000</td>\n",
       "      <td>0.825000</td>\n",
       "      <td>0.073000</td>\n",
       "      <td>0.949900</td>\n",
       "    </tr>\n",
       "    <tr>\n",
       "      <td>75%</td>\n",
       "      <td>0.167000</td>\n",
       "      <td>1.000000</td>\n",
       "      <td>0.208000</td>\n",
       "      <td>0.077200</td>\n",
       "      <td>0.117000</td>\n",
       "      <td>0.855000</td>\n",
       "      <td>0.096000</td>\n",
       "      <td>0.993200</td>\n",
       "    </tr>\n",
       "    <tr>\n",
       "      <td>max</td>\n",
       "      <td>0.778000</td>\n",
       "      <td>1.000000</td>\n",
       "      <td>0.732000</td>\n",
       "      <td>0.927400</td>\n",
       "      <td>0.336000</td>\n",
       "      <td>1.000000</td>\n",
       "      <td>0.623000</td>\n",
       "      <td>1.000000</td>\n",
       "    </tr>\n",
       "  </tbody>\n",
       "</table>\n",
       "</div>"
      ],
      "text/plain": [
       "       title_sentiment_pos  title_sentiment_neu  title_sentiment_neg  \\\n",
       "count         36343.000000         36343.000000         36343.000000   \n",
       "mean              0.079851             0.812731             0.107421   \n",
       "std               0.122744             0.168914             0.140056   \n",
       "min               0.000000             0.185000             0.000000   \n",
       "25%               0.000000             0.693000             0.000000   \n",
       "50%               0.000000             0.809000             0.000000   \n",
       "75%               0.167000             1.000000             0.208000   \n",
       "max               0.778000             1.000000             0.732000   \n",
       "\n",
       "       title_sentiment_comp  full_sentiment_pos  full_sentiment_neu  \\\n",
       "count          36343.000000        36343.000000        36343.000000   \n",
       "mean              -0.046296            0.097808            0.824778   \n",
       "std                0.363943            0.032651            0.051967   \n",
       "min               -0.939300            0.000000            0.000000   \n",
       "25%               -0.318200            0.077000            0.796000   \n",
       "50%                0.000000            0.097000            0.825000   \n",
       "75%                0.077200            0.117000            0.855000   \n",
       "max                0.927400            0.336000            1.000000   \n",
       "\n",
       "       full_sentiment_neg  full_sentiment_comp  \n",
       "count        36343.000000         36343.000000  \n",
       "mean             0.076616             0.363296  \n",
       "std              0.034582             0.844047  \n",
       "min              0.000000            -1.000000  \n",
       "25%              0.053000            -0.771700  \n",
       "50%              0.073000             0.949900  \n",
       "75%              0.096000             0.993200  \n",
       "max              0.623000             1.000000  "
      ]
     },
     "execution_count": 48,
     "metadata": {},
     "output_type": "execute_result"
    }
   ],
   "source": [
    "sentiment_df.describe()"
   ]
  },
  {
   "cell_type": "code",
   "execution_count": 49,
   "metadata": {},
   "outputs": [],
   "source": [
    "sentiment_df.to_pickle('data/sentiment_df.pickle')"
   ]
  },
  {
   "cell_type": "markdown",
   "metadata": {},
   "source": [
    "## END"
   ]
  }
 ],
 "metadata": {
  "kernelspec": {
   "display_name": "Python 3",
   "language": "python",
   "name": "python3"
  },
  "language_info": {
   "codemirror_mode": {
    "name": "ipython",
    "version": 3
   },
   "file_extension": ".py",
   "mimetype": "text/x-python",
   "name": "python",
   "nbconvert_exporter": "python",
   "pygments_lexer": "ipython3",
   "version": "3.6.5"
  }
 },
 "nbformat": 4,
 "nbformat_minor": 2
}
